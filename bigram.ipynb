{
 "cells": [
  {
   "cell_type": "code",
   "execution_count": 55,
   "metadata": {},
   "outputs": [
    {
     "name": "stdout",
     "output_type": "stream",
     "text": [
      "\n",
      "mps\n",
      "METAL\n"
     ]
    }
   ],
   "source": [
    "# Bigram language model\n",
    "\n",
    "import torch\n",
    "import torch.nn as nn\n",
    "from torch.nn import functional as F\n",
    "\n",
    "import jax\n",
    "import jax.numpy as jnp\n",
    "\n",
    "\n",
    "# from flax import linen as nn\n",
    "\n",
    "\n",
    "jdevice = jax.devices(\"METAL\" if jax.devices(\"METAL\") else \"cpu\")[0]\n",
    "print(jdevice)\n",
    "device = 'mps' if torch.backends.mps.is_available() else 'cpu'\n",
    "print(device)\n",
    "\n",
    "from jax.lib import xla_bridge\n",
    "print(xla_bridge.get_backend().platform)\n",
    "\n",
    "block_size = 8\n",
    "batch_size = 4\n",
    "max_iters = 1000\n",
    "learning_rate = 3e-4\n",
    "eval_iter = 250\n"
   ]
  },
  {
   "cell_type": "code",
   "execution_count": 56,
   "metadata": {},
   "outputs": [
    {
     "name": "stdout",
     "output_type": "stream",
     "text": [
      "['\\n', ' ', '!', '\"', '&', \"'\", '(', ')', '*', ',', '-', '.', '0', '1', '2', '3', '4', '5', '6', '7', '8', '9', ':', ';', '?', 'A', 'B', 'C', 'D', 'E', 'F', 'G', 'H', 'I', 'J', 'K', 'L', 'M', 'N', 'O', 'P', 'Q', 'R', 'S', 'T', 'U', 'V', 'W', 'X', 'Y', 'Z', '[', ']', '_', 'a', 'b', 'c', 'd', 'e', 'f', 'g', 'h', 'i', 'j', 'k', 'l', 'm', 'n', 'o', 'p', 'q', 'r', 's', 't', 'u', 'v', 'w', 'x', 'y', 'z']\n"
     ]
    }
   ],
   "source": [
    "# opening the wizard of oz text \n",
    "with open('wizard_of_oz.txt', 'r', encoding='utf-8') as f:\n",
    "    text = f.read()\n",
    "    \n",
    "chars = sorted(set(text))\n",
    "vocab_size = len(chars)\n",
    "    \n",
    "print(chars)"
   ]
  },
  {
   "cell_type": "code",
   "execution_count": 57,
   "metadata": {},
   "outputs": [
    {
     "name": "stdout",
     "output_type": "stream",
     "text": [
      "tensor([ 1, 28, 39, 42, 39, 44, 32, 49,  1, 25, 38, 28,  1, 44, 32, 29,  1, 47,\n",
      "        33, 50, 25, 42, 28,  1, 33, 38,  1, 39, 50,  0,  0,  1,  1, 26, 49,  0,\n",
      "         0,  1,  1, 36, 11,  1, 30, 42, 25, 38, 35,  1, 26, 25, 45, 37,  0,  0,\n",
      "         1,  1, 25, 45, 44, 32, 39, 42,  1, 39, 30,  1, 44, 32, 29,  1, 47, 33,\n",
      "        50, 25, 42, 28,  1, 39, 30,  1, 39, 50,  9,  1, 44, 32, 29,  1, 36, 25,\n",
      "        38, 28,  1, 39, 30,  1, 39, 50,  9,  1])\n"
     ]
    }
   ],
   "source": [
    "string_to_int = { ch:i for i,ch in enumerate(chars) }\n",
    "int_to_string = { i:ch for i,ch in enumerate(chars) }\n",
    "encode = lambda s: [string_to_int[c] for c in s]\n",
    "decode = lambda l: ''.join([int_to_string[i] for i in l])\n",
    "\n",
    "# entire wizard of oz text as data\n",
    "data = torch.tensor(encode(text), dtype=torch.long)\n",
    "print(data[:100])"
   ]
  },
  {
   "cell_type": "code",
   "execution_count": 58,
   "metadata": {
    "scrolled": true
   },
   "outputs": [
    {
     "name": "stdout",
     "output_type": "stream",
     "text": [
      "inputs:\n",
      "tensor([[62, 57, 58, 67, 73, 11,  1, 34],\n",
      "        [61, 62, 67, 60, 72, 11,  3,  0],\n",
      "        [76, 58,  1, 57, 68,  1, 67, 68],\n",
      "        [39, 75, 58, 71, 66, 54, 67, 10]], device='mps:0')\n",
      "targets:\n",
      "tensor([[57, 58, 67, 73, 11,  1, 34, 62],\n",
      "        [62, 67, 60, 72, 11,  3,  0,  0],\n",
      "        [58,  1, 57, 68,  1, 67, 68, 76],\n",
      "        [75, 58, 71, 66, 54, 67, 10, 25]], device='mps:0')\n"
     ]
    }
   ],
   "source": [
    "n = int(0.8*len(data))\n",
    "train_data = data[:n]\n",
    "val_data = data[n:]\n",
    "\n",
    "def get_batch(split):\n",
    "#     key = random.PRNGKey(42)\n",
    "    data = train_data if split == 'train' else val_data\n",
    "    \n",
    "    #using jax for a moment, was taking too much time, just decided to use PyTorch and practice Jax on other projects\n",
    "    \n",
    "    \n",
    "#     a = 0\n",
    "#     b = len(data) - block_size\n",
    "\n",
    "#     AA = random.randint(key, shape=(batch_size,), minval=a, maxval=b)\n",
    "#     x = jnp.stack([data[i:i+block_size].numpy() for i in AA])\n",
    "#     y = jnp.stack([data[i+1:i+block_size+1].numpy() for i in AA])\n",
    "#     x, y = jax.device_put(x, device), jax.device_put(y, device)\n",
    "\n",
    "    ix = torch.randint(len(data) - block_size, (batch_size,))\n",
    "    x = torch.stack([data[i:i+block_size] for i in ix])\n",
    "    y = torch.stack([data[i+1:i+block_size+1] for i in ix])\n",
    "    x, y = x.to(device), y.to(device)\n",
    "    return x, y\n",
    "\n",
    "x, y = get_batch('train')\n",
    "print('inputs:')\n",
    "#print(x.shape)\n",
    "print(x)\n",
    "print('targets:')\n",
    "print(y)\n"
   ]
  },
  {
   "cell_type": "code",
   "execution_count": 59,
   "metadata": {},
   "outputs": [],
   "source": [
    "\n",
    "\n",
    "# x = data[:block_size]\n",
    "# y = data[1:block_size + 1]\n",
    "\n",
    "\n",
    "# for t in range(block_size):\n",
    "#     context = x[:t+1]\n",
    "#     target = y[t]\n",
    "#     print('when input it', context, 'target is', target)"
   ]
  },
  {
   "cell_type": "code",
   "execution_count": 60,
   "metadata": {},
   "outputs": [],
   "source": [
    "# import torch\n",
    "# if torch.backends.mps.is_available():\n",
    "#     mps_device = torch.device(\"mps\")\n",
    "#     x = torch.ones(1, device=mps_device)\n",
    "#     print (x)\n",
    "# else:\n",
    "#     print (\"MPS device not found.\")"
   ]
  },
  {
   "cell_type": "code",
   "execution_count": 65,
   "metadata": {},
   "outputs": [],
   "source": [
    "@torch.no_grad()\n",
    "def estimate_loss():\n",
    "    out = {}\n",
    "    model.eval()\n",
    "    for split in ['train', 'val']:\n",
    "        losses = torch.zeros(eval_iters)\n",
    "        for k in range(eval_iters):\n",
    "            X, Y = get_batch(split)\n",
    "            logits, loss = model(X,Y)\n",
    "            losses[k] = loss.item()\n",
    "        out[split] = losses.mean()\n",
    "    model.train()\n",
    "    return out"
   ]
  },
  {
   "cell_type": "code",
   "execution_count": 66,
   "metadata": {},
   "outputs": [
    {
     "name": "stdout",
     "output_type": "stream",
     "text": [
      "\n",
      "K7bM)5XY'j.\"4St7?v6A!4Fe7FnR.JClx3vdzdZ-VCYfb*.XTE42l[D\n",
      "8jxB:dm2uMyNs dEZ  ARCb6 GF_S(a SFkLhpZ*NWARg AmN!aM1nH:6YaF[I&Kt*b*3SYFncLy:9?Q)WL09?Vmfsk?3!vaY zroHX2Fe(jU\"bKCMi(L\"j\"Kb\"_)zKGiINlja4k4Tt2Rl6JlWqmhX&fWLfRH_'1Z])DXTtvsUU\n",
      "A_;u:Bpvbx3KQ3;*(6A.4)AV]nRCpA!7I!8!,n0&Ksw]n9D!lxE1.fRO,VtmfM\"_b;5h09a6vlplxbu.DhYH[M uQb*,8.3!aT8e\"fw5MqmcxNdjWYaXJ?.;_bG6SgV5sXJw8C(72jl2P)!02TcTt8&',hXY,b6FR9*3ALhe- (m4y_mjeS!c0Iy:]2yBUKXr:WwVGexKC4BUQK2l2a u:n.4)!7cD'ae'[uj6rrvUTt&Dx!j[N8Qn12;M b'G01*jeB7iel6)0J?.T&\n"
     ]
    }
   ],
   "source": [
    "# Logits typically refer to the raw scores or predictions generated by your model before applying softmax\n",
    "# Targets represent the ground truth labels for your examples. These are the correct classes that you want your model to predict.\n",
    "\n",
    "class BigramLanguageModel(nn.Module):\n",
    "    def __init__(self, vocab_size):\n",
    "        super().__init__()\n",
    "        self.token_embedding_table = nn.Embedding(vocab_size, vocab_size)\n",
    "    \n",
    "    # the forward propogation functoin including calculating the Loss\n",
    "    def forward(self, index, targets=None):\n",
    "        logits = self.token_embedding_table(index)\n",
    "        \n",
    "        if targets is None:\n",
    "            loss = None\n",
    "        else:\n",
    "            # B representing batch size, T representing the sequence length (block_size), and c representing the original embedding dimentionality \n",
    "            B, T, C = logits.shape\n",
    "            logits = logits.view(B*T, C)\n",
    "            targets = targets.view(B*T)\n",
    "            loss = F.cross_entropy(logits, targets)\n",
    "        \n",
    "        return logits, loss\n",
    "\n",
    "    def generate(self, index, max_new_tokens):\n",
    "        for _ in range(max_new_tokens):\n",
    "            # get predictions\n",
    "            logits, loss = self.forward(index)\n",
    "            # focus only on the last time step\n",
    "            logits = logits[:, -1, :] \n",
    "            # because we only selected the last step in each batch, logits now only has two dimentions. \n",
    "            # Of the original B, T, C as T is the last one chose, we are left with just B, C. A (2,2) maxtix\n",
    "            # use soft max to find the probabilites \n",
    "            probs = F.softmax(logits, dim=-1 )# (B, C)\n",
    "            # sample from the distribution\n",
    "            index_next = torch.multinomial(probs, num_samples = 1) # (B, 1)\n",
    "            # finally append the sampled index to the running sequence\n",
    "            index = torch.cat((index, index_next), dim=-1) # (B, T+1)\n",
    "            \n",
    "        return index \n",
    "    \n",
    "model = BigramLanguageModel(vocab_size)\n",
    "m = model.to(device)\n",
    "\n",
    "context = torch.zeros((1,1), dtype=torch.long, device=device)\n",
    "generated_chars = decode(m.generate(context, max_new_tokens=500)[0].tolist())\n",
    "print(generated_chars)"
   ]
  },
  {
   "cell_type": "code",
   "execution_count": 67,
   "metadata": {},
   "outputs": [
    {
     "name": "stdout",
     "output_type": "stream",
     "text": [
      "step: 0, train loss: 4.830, val loss: 4.810\n",
      "step: 250, train loss: 4.756, val loss: 4.778\n",
      "step: 500, train loss: 4.698, val loss: 4.707\n",
      "step: 750, train loss: 4.631, val loss: 4.650\n",
      "4.722821235656738\n"
     ]
    }
   ],
   "source": [
    "#  creating the PyTorch optimizer\n",
    "optimizer = torch.optim.AdamW(model.parameters(), lr=learning_rate)\n",
    "\n",
    "for iter in range(max_iters):\n",
    "    if iter % eval_iter == 0:\n",
    "        losses = estimate_loss()\n",
    "        print(f\"step: {iter}, train loss: {losses['train']:.3f}, val loss: {losses['val']:.3f}\")\n",
    "        \n",
    "    # sameple batch of data, xb is the predictions, yb is the targets, during the initiation this is set to None\n",
    "    xb, yb =get_batch('train')\n",
    "    \n",
    "    # evaluate the loss using standard training loop architecture for basic models\n",
    "    logits, loss = model.forward(xb,yb)\n",
    "    optimizer.zero_grad(set_to_none=True)\n",
    "    loss.backward()\n",
    "    optimizer.step()\n",
    "#  A scalar representation of how the model is doing, compared to the true values calculated during 'Forward Propogation'\n",
    "# A lowe value indicates an improvment of the Bigram Language Model\n",
    "print(loss.item())"
   ]
  },
  {
   "cell_type": "code",
   "execution_count": 68,
   "metadata": {},
   "outputs": [],
   "source": [
    "# import torch\n",
    "\n",
    "# # Example probability distribution (from softmax)\n",
    "# softmax_probs_matrix = torch.tensor([[0.0900, 0.2447, 0.6652],\n",
    "#                                     [0.0900, 0.2447, 0.6652]])\n",
    "\n",
    "# # Draw 5 samples for each row\n",
    "# samples = torch.multinomial(softmax_probs_matrix, num_samples=5, replacement=True)\n",
    "# samples2 = torch.multinomial(softmax_probs_matrix, num_samples=3, replacement = False)\n",
    "\n",
    "\n",
    "# print(samples)\n",
    "# print(samples2)"
   ]
  },
  {
   "cell_type": "code",
   "execution_count": 69,
   "metadata": {},
   "outputs": [
    {
     "name": "stdout",
     "output_type": "stream",
     "text": [
      "\n",
      "Tthx_6Ijk?QPNeKRDChfWizyhfvDTtXmj[2cH:GhieT9Cb.1;?GlJnnf-VCe_5hBdqGRtmIa8oe,V!7Hp9(jcbj] iB(oU34i.JybSt cTH])T:])io2djb.fgJL.RnR_]H.99,VCEv'?.zXJyCDbjuTMfb(jW!ewuZ*dirlyCedEFd!;09HrNsp]b2hEhpVpmf?sk3KhBAwG.4iV'B&uJkrL6z8zKyx36n.8HRC,]5JoU\".zZFnTtj[wlO7;;ZF,eenEumft'?c&x6;n1Qu4]IUU\"mbk'8JtppF!_ M5sBx6I&J-,j7b-El\"5p!B5RvCMu6ZmfRC.JCcO09A[3V]ylyg;;5C!Q,o8itmvz:(jB7)QPaLlhfbVAit7RbLyC5rB.f?OC8YiQ!yjvgWYR&;ZK7diL4SEiGiHBl29Q4[Y;&uRc,*HUo_W 'X0N\"ugUMG]n3hX]5-Qn6H]uBMoVj7ARpF!7D!y_gb*?WHTVp*3kHzo(]RfUo\n"
     ]
    }
   ],
   "source": [
    "context = torch.zeros((1,1), dtype = torch.long, device=device)\n",
    "generated_chars = decode(m.generate(context, max_new_tokens=500)[0].tolist())\n",
    "print(generated_chars)"
   ]
  },
  {
   "cell_type": "code",
   "execution_count": null,
   "metadata": {},
   "outputs": [],
   "source": []
  }
 ],
 "metadata": {
  "kernelspec": {
   "display_name": "cuda-gpt",
   "language": "python",
   "name": "cuda"
  },
  "language_info": {
   "codemirror_mode": {
    "name": "ipython",
    "version": 3
   },
   "file_extension": ".py",
   "mimetype": "text/x-python",
   "name": "python",
   "nbconvert_exporter": "python",
   "pygments_lexer": "ipython3",
   "version": "3.10.9"
  }
 },
 "nbformat": 4,
 "nbformat_minor": 4
}
